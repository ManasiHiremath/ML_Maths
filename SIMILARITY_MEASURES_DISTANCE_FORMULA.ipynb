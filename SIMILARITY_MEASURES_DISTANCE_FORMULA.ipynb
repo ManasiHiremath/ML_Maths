{
 "cells": [
  {
   "cell_type": "code",
   "execution_count": 39,
   "id": "ed75192b",
   "metadata": {},
   "outputs": [],
   "source": [
    "# *************************************\n",
    "# ** Code Details : Distance Metrices\n",
    "# ** Developers name : Manasi Hiremath\n",
    "# ** Date : 07-Jul-2024\n",
    "# *************************************"
   ]
  },
  {
   "cell_type": "code",
   "execution_count": 40,
   "id": "cdca4d35",
   "metadata": {},
   "outputs": [
    {
     "name": "stdout",
     "output_type": "stream",
     "text": [
      "The jupyter_black extension is already loaded. To reload it, use:\n",
      "  %reload_ext jupyter_black\n"
     ]
    }
   ],
   "source": [
    "%load_ext jupyter_black"
   ]
  },
  {
   "cell_type": "code",
   "execution_count": 41,
   "id": "adac0f48-2fe8-428b-aa38-a26b12005d95",
   "metadata": {},
   "outputs": [],
   "source": [
    "import pandas as pd\n",
    "import numpy as np"
   ]
  },
  {
   "cell_type": "code",
   "execution_count": 42,
   "id": "02e403a5-be06-4cfa-a0bd-51f2ac05a4ce",
   "metadata": {},
   "outputs": [
    {
     "data": {
      "text/html": [
       "<div>\n",
       "<style scoped>\n",
       "    .dataframe tbody tr th:only-of-type {\n",
       "        vertical-align: middle;\n",
       "    }\n",
       "\n",
       "    .dataframe tbody tr th {\n",
       "        vertical-align: top;\n",
       "    }\n",
       "\n",
       "    .dataframe thead th {\n",
       "        text-align: right;\n",
       "    }\n",
       "</style>\n",
       "<table border=\"1\" class=\"dataframe\">\n",
       "  <thead>\n",
       "    <tr style=\"text-align: right;\">\n",
       "      <th></th>\n",
       "      <th>56568</th>\n",
       "      <th>56569</th>\n",
       "    </tr>\n",
       "  </thead>\n",
       "  <tbody>\n",
       "    <tr>\n",
       "      <th>timestamp</th>\n",
       "      <td>2015-01-05T16:55:00+05:30</td>\n",
       "      <td>2015-01-05T16:55:00+05:30</td>\n",
       "    </tr>\n",
       "    <tr>\n",
       "      <th>mac</th>\n",
       "      <td>0013a20040b31571</td>\n",
       "      <td>0013a20040b516ed</td>\n",
       "    </tr>\n",
       "    <tr>\n",
       "      <th>boardtype</th>\n",
       "      <td>1</td>\n",
       "      <td>1</td>\n",
       "    </tr>\n",
       "    <tr>\n",
       "      <th>boardid</th>\n",
       "      <td>510</td>\n",
       "      <td>505</td>\n",
       "    </tr>\n",
       "    <tr>\n",
       "      <th>temp_max</th>\n",
       "      <td>17.1</td>\n",
       "      <td>17.7</td>\n",
       "    </tr>\n",
       "    <tr>\n",
       "      <th>temp_min</th>\n",
       "      <td>17.1</td>\n",
       "      <td>17.7</td>\n",
       "    </tr>\n",
       "    <tr>\n",
       "      <th>temp_avg</th>\n",
       "      <td>17.1</td>\n",
       "      <td>17.7</td>\n",
       "    </tr>\n",
       "    <tr>\n",
       "      <th>light_max</th>\n",
       "      <td>1.3</td>\n",
       "      <td>3.1</td>\n",
       "    </tr>\n",
       "    <tr>\n",
       "      <th>light_min</th>\n",
       "      <td>1.3</td>\n",
       "      <td>3.1</td>\n",
       "    </tr>\n",
       "    <tr>\n",
       "      <th>light_avg</th>\n",
       "      <td>1.3</td>\n",
       "      <td>3.1</td>\n",
       "    </tr>\n",
       "    <tr>\n",
       "      <th>humidity_min</th>\n",
       "      <td>54.1</td>\n",
       "      <td>57.8</td>\n",
       "    </tr>\n",
       "    <tr>\n",
       "      <th>humidity_max</th>\n",
       "      <td>54.1</td>\n",
       "      <td>57.8</td>\n",
       "    </tr>\n",
       "    <tr>\n",
       "      <th>humidity_avg</th>\n",
       "      <td>54.1</td>\n",
       "      <td>57.8</td>\n",
       "    </tr>\n",
       "    <tr>\n",
       "      <th>model</th>\n",
       "      <td>ENV</td>\n",
       "      <td>ENV</td>\n",
       "    </tr>\n",
       "    <tr>\n",
       "      <th>latitude</th>\n",
       "      <td>-37.819712</td>\n",
       "      <td>-37.813073</td>\n",
       "    </tr>\n",
       "    <tr>\n",
       "      <th>longitude</th>\n",
       "      <td>144.941325</td>\n",
       "      <td>144.980406</td>\n",
       "    </tr>\n",
       "    <tr>\n",
       "      <th>elevation</th>\n",
       "      <td>NaN</td>\n",
       "      <td>29.91</td>\n",
       "    </tr>\n",
       "    <tr>\n",
       "      <th>location</th>\n",
       "      <td>Docklands Library</td>\n",
       "      <td>Fitzroy Gardens</td>\n",
       "    </tr>\n",
       "    <tr>\n",
       "      <th>rowid</th>\n",
       "      <td>510-20150105112500</td>\n",
       "      <td>505-20150105112500</td>\n",
       "    </tr>\n",
       "    <tr>\n",
       "      <th>Position</th>\n",
       "      <td>NaN</td>\n",
       "      <td>NaN</td>\n",
       "    </tr>\n",
       "    <tr>\n",
       "      <th>geolocation</th>\n",
       "      <td>-37.8197121, 144.9413253</td>\n",
       "      <td>-37.813073, 144.9804061</td>\n",
       "    </tr>\n",
       "  </tbody>\n",
       "</table>\n",
       "</div>"
      ],
      "text/plain": [
       "                                  56568                      56569\n",
       "timestamp     2015-01-05T16:55:00+05:30  2015-01-05T16:55:00+05:30\n",
       "mac                    0013a20040b31571           0013a20040b516ed\n",
       "boardtype                             1                          1\n",
       "boardid                             510                        505\n",
       "temp_max                           17.1                       17.7\n",
       "temp_min                           17.1                       17.7\n",
       "temp_avg                           17.1                       17.7\n",
       "light_max                           1.3                        3.1\n",
       "light_min                           1.3                        3.1\n",
       "light_avg                           1.3                        3.1\n",
       "humidity_min                       54.1                       57.8\n",
       "humidity_max                       54.1                       57.8\n",
       "humidity_avg                       54.1                       57.8\n",
       "model                               ENV                        ENV\n",
       "latitude                     -37.819712                 -37.813073\n",
       "longitude                    144.941325                 144.980406\n",
       "elevation                           NaN                      29.91\n",
       "location              Docklands Library            Fitzroy Gardens\n",
       "rowid                510-20150105112500         505-20150105112500\n",
       "Position                            NaN                        NaN\n",
       "geolocation    -37.8197121, 144.9413253    -37.813073, 144.9804061"
      ]
     },
     "execution_count": 42,
     "metadata": {},
     "output_type": "execute_result"
    }
   ],
   "source": [
    "# Read Sensor readings, with temperature, light, humidity every 5 minutes at 8\n",
    "# locations (trial, 2014 to 2015)” data\n",
    "filename = r\"c:\\Users\\rajhi\\Downloads\\sensor-readings-with-temperature-light-humidity-every-5-minutes-at-8-locations-t.csv\"\n",
    "df_fred = pd.read_csv(filename)\n",
    "# check sample record\n",
    "df_fred.tail(2).T"
   ]
  },
  {
   "cell_type": "code",
   "execution_count": 43,
   "id": "033ec90b-6c4c-443c-9941-ea756c56acaf",
   "metadata": {},
   "outputs": [],
   "source": [
    "# *** Data cleaning"
   ]
  },
  {
   "cell_type": "code",
   "execution_count": 44,
   "id": "0963a71c",
   "metadata": {},
   "outputs": [],
   "source": [
    "# since data has missing values,filling\n",
    "# replacing missing elevation values by group mean of geolocation\n",
    "df_fred[\"elevation\"] = df_fred[\"elevation\"].fillna(\n",
    "    df_fred.groupby(\"geolocation\")[\"elevation\"].transform(\"mean\")\n",
    ")\n",
    "\n",
    "# One Hot encoding\n",
    "df_encod = df_fred.copy()\n",
    "df_encod = pd.get_dummies(df_fred, columns=[\"location\"], drop_first=True, dtype=int)"
   ]
  },
  {
   "cell_type": "code",
   "execution_count": 86,
   "id": "b6cdc1b6-77d6-4d11-b032-5bd3b212a2c1",
   "metadata": {},
   "outputs": [],
   "source": [
    "# dropping un-nessary columns\n",
    "col_drop = [\"timestamp\", \"mac\", \"model\", \"Position\", \"rowid\", \"geolocation\"]\n",
    "df_encod1 = df_encod.drop(columns=col_drop)"
   ]
  },
  {
   "cell_type": "code",
   "execution_count": 88,
   "id": "f18cd1a8",
   "metadata": {},
   "outputs": [
    {
     "data": {
      "text/html": [
       "<div>\n",
       "<style scoped>\n",
       "    .dataframe tbody tr th:only-of-type {\n",
       "        vertical-align: middle;\n",
       "    }\n",
       "\n",
       "    .dataframe tbody tr th {\n",
       "        vertical-align: top;\n",
       "    }\n",
       "\n",
       "    .dataframe thead th {\n",
       "        text-align: right;\n",
       "    }\n",
       "</style>\n",
       "<table border=\"1\" class=\"dataframe\">\n",
       "  <thead>\n",
       "    <tr style=\"text-align: right;\">\n",
       "      <th></th>\n",
       "      <th>52361</th>\n",
       "      <th>21501</th>\n",
       "    </tr>\n",
       "  </thead>\n",
       "  <tbody>\n",
       "    <tr>\n",
       "      <th>boardtype</th>\n",
       "      <td>1.000000</td>\n",
       "      <td>1.000000</td>\n",
       "    </tr>\n",
       "    <tr>\n",
       "      <th>boardid</th>\n",
       "      <td>511.000000</td>\n",
       "      <td>509.000000</td>\n",
       "    </tr>\n",
       "    <tr>\n",
       "      <th>temp_max</th>\n",
       "      <td>25.800000</td>\n",
       "      <td>13.500000</td>\n",
       "    </tr>\n",
       "    <tr>\n",
       "      <th>temp_min</th>\n",
       "      <td>25.800000</td>\n",
       "      <td>13.500000</td>\n",
       "    </tr>\n",
       "    <tr>\n",
       "      <th>temp_avg</th>\n",
       "      <td>25.800000</td>\n",
       "      <td>13.500000</td>\n",
       "    </tr>\n",
       "    <tr>\n",
       "      <th>light_max</th>\n",
       "      <td>98.600000</td>\n",
       "      <td>3.100000</td>\n",
       "    </tr>\n",
       "    <tr>\n",
       "      <th>light_min</th>\n",
       "      <td>98.600000</td>\n",
       "      <td>3.100000</td>\n",
       "    </tr>\n",
       "    <tr>\n",
       "      <th>light_avg</th>\n",
       "      <td>98.600000</td>\n",
       "      <td>3.100000</td>\n",
       "    </tr>\n",
       "    <tr>\n",
       "      <th>humidity_min</th>\n",
       "      <td>34.600000</td>\n",
       "      <td>67.500000</td>\n",
       "    </tr>\n",
       "    <tr>\n",
       "      <th>humidity_max</th>\n",
       "      <td>34.600000</td>\n",
       "      <td>67.500000</td>\n",
       "    </tr>\n",
       "    <tr>\n",
       "      <th>humidity_avg</th>\n",
       "      <td>34.600000</td>\n",
       "      <td>67.500000</td>\n",
       "    </tr>\n",
       "    <tr>\n",
       "      <th>latitude</th>\n",
       "      <td>-37.819500</td>\n",
       "      <td>-37.819904</td>\n",
       "    </tr>\n",
       "    <tr>\n",
       "      <th>longitude</th>\n",
       "      <td>144.941889</td>\n",
       "      <td>144.940485</td>\n",
       "    </tr>\n",
       "    <tr>\n",
       "      <th>elevation</th>\n",
       "      <td>3.750000</td>\n",
       "      <td>0.030000</td>\n",
       "    </tr>\n",
       "    <tr>\n",
       "      <th>location_Fitzroy Gardens</th>\n",
       "      <td>0.000000</td>\n",
       "      <td>0.000000</td>\n",
       "    </tr>\n",
       "  </tbody>\n",
       "</table>\n",
       "</div>"
      ],
      "text/plain": [
       "                               52361       21501\n",
       "boardtype                   1.000000    1.000000\n",
       "boardid                   511.000000  509.000000\n",
       "temp_max                   25.800000   13.500000\n",
       "temp_min                   25.800000   13.500000\n",
       "temp_avg                   25.800000   13.500000\n",
       "light_max                  98.600000    3.100000\n",
       "light_min                  98.600000    3.100000\n",
       "light_avg                  98.600000    3.100000\n",
       "humidity_min               34.600000   67.500000\n",
       "humidity_max               34.600000   67.500000\n",
       "humidity_avg               34.600000   67.500000\n",
       "latitude                  -37.819500  -37.819904\n",
       "longitude                 144.941889  144.940485\n",
       "elevation                   3.750000    0.030000\n",
       "location_Fitzroy Gardens    0.000000    0.000000"
      ]
     },
     "execution_count": 88,
     "metadata": {},
     "output_type": "execute_result"
    }
   ],
   "source": [
    "df_encod1.sample(2).T"
   ]
  },
  {
   "cell_type": "code",
   "execution_count": 89,
   "id": "8e7bcf59-20ce-4e61-bc9d-5f2f87d8b94a",
   "metadata": {},
   "outputs": [
    {
     "name": "stdout",
     "output_type": "stream",
     "text": [
      "<class 'pandas.core.frame.DataFrame'>\n",
      "RangeIndex: 56570 entries, 0 to 56569\n",
      "Data columns (total 15 columns):\n",
      " #   Column                    Non-Null Count  Dtype  \n",
      "---  ------                    --------------  -----  \n",
      " 0   boardtype                 56570 non-null  int64  \n",
      " 1   boardid                   56570 non-null  int64  \n",
      " 2   temp_max                  56570 non-null  float64\n",
      " 3   temp_min                  56570 non-null  float64\n",
      " 4   temp_avg                  56570 non-null  float64\n",
      " 5   light_max                 56570 non-null  float64\n",
      " 6   light_min                 56570 non-null  float64\n",
      " 7   light_avg                 56570 non-null  float64\n",
      " 8   humidity_min              56570 non-null  float64\n",
      " 9   humidity_max              56570 non-null  float64\n",
      " 10  humidity_avg              56570 non-null  float64\n",
      " 11  latitude                  56570 non-null  float64\n",
      " 12  longitude                 56570 non-null  float64\n",
      " 13  elevation                 56570 non-null  float64\n",
      " 14  location_Fitzroy Gardens  56570 non-null  int64  \n",
      "dtypes: float64(12), int64(3)\n",
      "memory usage: 6.5 MB\n"
     ]
    }
   ],
   "source": [
    "df_encod1.info()"
   ]
  },
  {
   "cell_type": "code",
   "execution_count": 49,
   "id": "236dc1c0-29e8-4dc5-b0ef-eb4bc7610d0e",
   "metadata": {},
   "outputs": [
    {
     "data": {
      "text/plain": [
       "(56570, 17)"
      ]
     },
     "execution_count": 49,
     "metadata": {},
     "output_type": "execute_result"
    }
   ],
   "source": [
    "df_encod1.shape"
   ]
  },
  {
   "cell_type": "markdown",
   "id": "d3be9fcc-5d6b-4c25-89ab-aebb4b36e658",
   "metadata": {},
   "source": [
    "## Lets consider any 2 records as 2 vectors in 17 dimensions."
   ]
  },
  {
   "cell_type": "code",
   "execution_count": 90,
   "id": "7086bbd0-45f3-4f08-98b6-6b2f51ecf1bc",
   "metadata": {},
   "outputs": [
    {
     "data": {
      "text/html": [
       "<div>\n",
       "<style scoped>\n",
       "    .dataframe tbody tr th:only-of-type {\n",
       "        vertical-align: middle;\n",
       "    }\n",
       "\n",
       "    .dataframe tbody tr th {\n",
       "        vertical-align: top;\n",
       "    }\n",
       "\n",
       "    .dataframe thead th {\n",
       "        text-align: right;\n",
       "    }\n",
       "</style>\n",
       "<table border=\"1\" class=\"dataframe\">\n",
       "  <thead>\n",
       "    <tr style=\"text-align: right;\">\n",
       "      <th></th>\n",
       "      <th>1</th>\n",
       "      <th>2</th>\n",
       "    </tr>\n",
       "  </thead>\n",
       "  <tbody>\n",
       "    <tr>\n",
       "      <th>boardtype</th>\n",
       "      <td>1.000000</td>\n",
       "      <td>1.000000</td>\n",
       "    </tr>\n",
       "    <tr>\n",
       "      <th>boardid</th>\n",
       "      <td>511.000000</td>\n",
       "      <td>509.000000</td>\n",
       "    </tr>\n",
       "    <tr>\n",
       "      <th>temp_max</th>\n",
       "      <td>19.700000</td>\n",
       "      <td>19.700000</td>\n",
       "    </tr>\n",
       "    <tr>\n",
       "      <th>temp_min</th>\n",
       "      <td>19.700000</td>\n",
       "      <td>19.700000</td>\n",
       "    </tr>\n",
       "    <tr>\n",
       "      <th>temp_avg</th>\n",
       "      <td>19.700000</td>\n",
       "      <td>19.700000</td>\n",
       "    </tr>\n",
       "    <tr>\n",
       "      <th>light_max</th>\n",
       "      <td>10.600000</td>\n",
       "      <td>3.100000</td>\n",
       "    </tr>\n",
       "    <tr>\n",
       "      <th>light_min</th>\n",
       "      <td>10.600000</td>\n",
       "      <td>3.100000</td>\n",
       "    </tr>\n",
       "    <tr>\n",
       "      <th>light_avg</th>\n",
       "      <td>10.600000</td>\n",
       "      <td>3.100000</td>\n",
       "    </tr>\n",
       "    <tr>\n",
       "      <th>humidity_min</th>\n",
       "      <td>50.200000</td>\n",
       "      <td>57.900000</td>\n",
       "    </tr>\n",
       "    <tr>\n",
       "      <th>humidity_max</th>\n",
       "      <td>50.200000</td>\n",
       "      <td>57.900000</td>\n",
       "    </tr>\n",
       "    <tr>\n",
       "      <th>humidity_avg</th>\n",
       "      <td>50.200000</td>\n",
       "      <td>57.900000</td>\n",
       "    </tr>\n",
       "    <tr>\n",
       "      <th>latitude</th>\n",
       "      <td>-37.819500</td>\n",
       "      <td>-37.819904</td>\n",
       "    </tr>\n",
       "    <tr>\n",
       "      <th>longitude</th>\n",
       "      <td>144.941889</td>\n",
       "      <td>144.940485</td>\n",
       "    </tr>\n",
       "    <tr>\n",
       "      <th>elevation</th>\n",
       "      <td>3.750000</td>\n",
       "      <td>0.030000</td>\n",
       "    </tr>\n",
       "    <tr>\n",
       "      <th>location_Fitzroy Gardens</th>\n",
       "      <td>0.000000</td>\n",
       "      <td>0.000000</td>\n",
       "    </tr>\n",
       "  </tbody>\n",
       "</table>\n",
       "</div>"
      ],
      "text/plain": [
       "                                   1           2\n",
       "boardtype                   1.000000    1.000000\n",
       "boardid                   511.000000  509.000000\n",
       "temp_max                   19.700000   19.700000\n",
       "temp_min                   19.700000   19.700000\n",
       "temp_avg                   19.700000   19.700000\n",
       "light_max                  10.600000    3.100000\n",
       "light_min                  10.600000    3.100000\n",
       "light_avg                  10.600000    3.100000\n",
       "humidity_min               50.200000   57.900000\n",
       "humidity_max               50.200000   57.900000\n",
       "humidity_avg               50.200000   57.900000\n",
       "latitude                  -37.819500  -37.819904\n",
       "longitude                 144.941889  144.940485\n",
       "elevation                   3.750000    0.030000\n",
       "location_Fitzroy Gardens    0.000000    0.000000"
      ]
     },
     "execution_count": 90,
     "metadata": {},
     "output_type": "execute_result"
    }
   ],
   "source": [
    "df1 = df_encod1[1:3]\n",
    "df1.T"
   ]
  },
  {
   "cell_type": "code",
   "execution_count": 73,
   "id": "20a4da4d-28cb-47de-afdb-583fd02dd623",
   "metadata": {},
   "outputs": [
    {
     "data": {
      "text/html": [
       "<div>\n",
       "<style scoped>\n",
       "    .dataframe tbody tr th:only-of-type {\n",
       "        vertical-align: middle;\n",
       "    }\n",
       "\n",
       "    .dataframe tbody tr th {\n",
       "        vertical-align: top;\n",
       "    }\n",
       "\n",
       "    .dataframe thead th {\n",
       "        text-align: right;\n",
       "    }\n",
       "</style>\n",
       "<table border=\"1\" class=\"dataframe\">\n",
       "  <thead>\n",
       "    <tr style=\"text-align: right;\">\n",
       "      <th></th>\n",
       "      <th>boardtype</th>\n",
       "      <th>boardid</th>\n",
       "      <th>temp_max</th>\n",
       "      <th>temp_min</th>\n",
       "      <th>temp_avg</th>\n",
       "      <th>light_max</th>\n",
       "      <th>light_min</th>\n",
       "      <th>light_avg</th>\n",
       "      <th>humidity_min</th>\n",
       "      <th>humidity_max</th>\n",
       "      <th>humidity_avg</th>\n",
       "      <th>latitude</th>\n",
       "      <th>longitude</th>\n",
       "      <th>elevation</th>\n",
       "      <th>rowid</th>\n",
       "      <th>geolocation</th>\n",
       "      <th>location_Fitzroy Gardens</th>\n",
       "    </tr>\n",
       "  </thead>\n",
       "  <tbody>\n",
       "    <tr>\n",
       "      <th>1</th>\n",
       "      <td>1</td>\n",
       "      <td>511</td>\n",
       "      <td>19.7</td>\n",
       "      <td>19.7</td>\n",
       "      <td>19.7</td>\n",
       "      <td>10.6</td>\n",
       "      <td>10.6</td>\n",
       "      <td>10.6</td>\n",
       "      <td>50.2</td>\n",
       "      <td>50.2</td>\n",
       "      <td>50.2</td>\n",
       "      <td>-37.8195</td>\n",
       "      <td>144.941889</td>\n",
       "      <td>3.75</td>\n",
       "      <td>511-20150124111500</td>\n",
       "      <td>-37.8195002, 144.9418888</td>\n",
       "      <td>0</td>\n",
       "    </tr>\n",
       "  </tbody>\n",
       "</table>\n",
       "</div>"
      ],
      "text/plain": [
       "   boardtype  boardid  temp_max  temp_min  temp_avg  light_max  light_min  \\\n",
       "1          1      511      19.7      19.7      19.7       10.6       10.6   \n",
       "\n",
       "   light_avg  humidity_min  humidity_max  humidity_avg  latitude   longitude  \\\n",
       "1       10.6          50.2          50.2          50.2  -37.8195  144.941889   \n",
       "\n",
       "   elevation               rowid               geolocation  \\\n",
       "1       3.75  511-20150124111500  -37.8195002, 144.9418888   \n",
       "\n",
       "   location_Fitzroy Gardens  \n",
       "1                         0  "
      ]
     },
     "execution_count": 73,
     "metadata": {},
     "output_type": "execute_result"
    }
   ],
   "source": [
    "df1[0:1]"
   ]
  },
  {
   "cell_type": "code",
   "execution_count": 91,
   "id": "22958302-af8d-45b7-99e8-a1a71dd8757c",
   "metadata": {},
   "outputs": [
    {
     "name": "stdout",
     "output_type": "stream",
     "text": [
      "19.090793648606397\n"
     ]
    }
   ],
   "source": []
  },
  {
   "cell_type": "markdown",
   "id": "f29c581a-bc12-4aaa-9a47-c5fbcd0f2344",
   "metadata": {},
   "source": [
    "# Euclidean distance= sqrt(sum((x11-x12)^2+ (x21-x22)^2))\n",
    "![title](distance_1.jpg)"
   ]
  },
  {
   "cell_type": "code",
   "execution_count": 105,
   "id": "1128893b-9002-4951-b69e-2e725a6110cf",
   "metadata": {},
   "outputs": [
    {
     "name": "stdout",
     "output_type": "stream",
     "text": [
      "19.090793648606397\n",
      "19.090793648606397\n"
     ]
    }
   ],
   "source": [
    "##**********Implimenation --1******************\n",
    "# finding sum of squares\n",
    "sum_sq = np.sum(np.square(point1 - point2))\n",
    "\n",
    "# Doing squareroot and\n",
    "# printing Euclidean distance\n",
    "print(np.sqrt(sum_sq))\n",
    "\n",
    "##**********Implimenation --2******************\n",
    "# For Further Processing, now convert dataframe to array\n",
    "array = df1\n",
    "point1 = df1[0:1].to_numpy()\n",
    "point2 = df1[1:2].to_numpy()\n",
    "\n",
    "# calculating Euclidean distance\n",
    "# using linalg.norm()\n",
    "dist = np.linalg.norm(point1 - point2)\n",
    "\n",
    "# printing Euclidean distance\n",
    "print(dist)"
   ]
  },
  {
   "cell_type": "markdown",
   "id": "f1801894-7fc2-4b34-8066-026f8acd697e",
   "metadata": {},
   "source": [
    "# Cosine distance\n",
    "![title](distance_2.jpg)"
   ]
  },
  {
   "cell_type": "code",
   "execution_count": 133,
   "id": "eafd775e-205f-4a64-9716-6aad77d1da62",
   "metadata": {},
   "outputs": [
    {
     "name": "stdout",
     "output_type": "stream",
     "text": [
      "[[0.00062255]]\n"
     ]
    },
    {
     "data": {
      "text/plain": [
       "array([[0.00062255]])"
      ]
     },
     "execution_count": 133,
     "metadata": {},
     "output_type": "execute_result"
    }
   ],
   "source": [
    "x = point1\n",
    "y = point2.T\n",
    "print(1 - np.dot(x, y) / (np.linalg.norm(x) * np.linalg.norm(y)))\n",
    "\n",
    "### Implimentation --2\n",
    "from numpy.linalg import norm\n",
    "\n",
    "# compute cosine similarity\n",
    "cosine = np.dot(x, y) / (norm(x, axis=1) * norm(y))\n",
    "1 - cosine"
   ]
  },
  {
   "cell_type": "markdown",
   "id": "7b2560c5-39c7-454b-b09d-29728bd66ff6",
   "metadata": {},
   "source": [
    "# Citiblock/Manahatan distance\n",
    "![title](distance_3.jpg)"
   ]
  },
  {
   "cell_type": "code",
   "execution_count": 135,
   "id": "8ea8a6f9-4ca2-4e14-9e26-126adee01b3a",
   "metadata": {},
   "outputs": [
    {
     "data": {
      "text/plain": [
       "np.float64(51.32180779999998)"
      ]
     },
     "execution_count": 135,
     "metadata": {},
     "output_type": "execute_result"
    }
   ],
   "source": [
    "Manhatan_dist = np.sum(np.abs(point1 - point2))\n",
    "Manhatan_dist"
   ]
  },
  {
   "cell_type": "markdown",
   "id": "55a6cb73-6a0e-4ef1-8ff2-d74a07ae2650",
   "metadata": {},
   "source": [
    "# Jaccard Distance\n",
    "![title](distance_41.jpg)"
   ]
  },
  {
   "cell_type": "code",
   "execution_count": 136,
   "id": "adde03e8-145e-4e30-8db3-49c230660932",
   "metadata": {},
   "outputs": [
    {
     "name": "stdout",
     "output_type": "stream",
     "text": [
      "AnB =  {1, 2}\n",
      "AUB =  {1, 2, 3, 4, 5, 6, 8, 9}\n",
      "J(A,B) =  0.25\n"
     ]
    }
   ],
   "source": [
    "A = {1, 2, 3, 4, 6}\n",
    "B = {1, 2, 5, 8, 9}\n",
    "# Intersaction and Union of two sets can also be done using & and | operators.\n",
    "C = A.intersection(B)\n",
    "D = A.union(B)\n",
    "print(\"AnB = \", C)\n",
    "print(\"AUB = \", D)\n",
    "print(\"J(A,B) = \", float(len(C)) / float(len(D)))"
   ]
  },
  {
   "cell_type": "code",
   "execution_count": null,
   "id": "3c239bb2-c00e-4a41-a522-374c04b59c09",
   "metadata": {},
   "outputs": [],
   "source": []
  }
 ],
 "metadata": {
  "kernelspec": {
   "display_name": "Python 3 (ipykernel)",
   "language": "python",
   "name": "python3"
  },
  "language_info": {
   "codemirror_mode": {
    "name": "ipython",
    "version": 3
   },
   "file_extension": ".py",
   "mimetype": "text/x-python",
   "name": "python",
   "nbconvert_exporter": "python",
   "pygments_lexer": "ipython3",
   "version": "3.12.4"
  }
 },
 "nbformat": 4,
 "nbformat_minor": 5
}
